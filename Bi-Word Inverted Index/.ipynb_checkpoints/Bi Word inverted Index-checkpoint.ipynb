{
 "cells": [
  {
   "cell_type": "code",
   "execution_count": 204,
   "metadata": {
    "collapsed": true
   },
   "outputs": [],
   "source": [
    "import csv\n",
    "import nltk\n",
    "from nltk import word_tokenize\n",
    "from nltk.corpus import stopwords, wordnet\n",
    "from nltk.stem import WordNetLemmatizer\n",
    "import re\n",
    "import pickle\n",
    "import os"
   ]
  },
  {
   "cell_type": "code",
   "execution_count": 205,
   "metadata": {
    "collapsed": true
   },
   "outputs": [],
   "source": [
    "stopwords = set(stopwords.words('english'))"
   ]
  },
  {
   "cell_type": "code",
   "execution_count": 206,
   "metadata": {
    "collapsed": true
   },
   "outputs": [],
   "source": [
    "inverted_index = {}\n",
    "bi_word_inverted_index = {}\n",
    "not_result = []"
   ]
  },
  {
   "cell_type": "code",
   "execution_count": 207,
   "metadata": {
    "collapsed": true
   },
   "outputs": [],
   "source": [
    "def remove_stopwords(tokens):\n",
    "    tokens_wo_stopwords = []\n",
    "    for i in range(0,len(tokens)):\n",
    "        if tokens[i].lower() not in stopwords:\n",
    "            tokens_wo_stopwords.append(tokens[i].lower())\n",
    "    return tokens_wo_stopwords"
   ]
  },
  {
   "cell_type": "code",
   "execution_count": 208,
   "metadata": {
    "collapsed": true
   },
   "outputs": [],
   "source": [
    "def get_pos_tag(token):\n",
    "    pos_tag = nltk.pos_tag([token])[0][1]\n",
    "    if pos_tag.startswith('N'):\n",
    "        return wordnet.NOUN\n",
    "    elif pos_tag.startswith('V'):\n",
    "        return wordnet.VERB\n",
    "    elif pos_tag.startswith('J'):\n",
    "        return wordnet.ADJ\n",
    "    elif pos_tag.startswith('R'):\n",
    "        return wordnet.ADV\n",
    "    else:\n",
    "        return wordnet.NOUN"
   ]
  },
  {
   "cell_type": "code",
   "execution_count": 209,
   "metadata": {
    "collapsed": true
   },
   "outputs": [],
   "source": [
    "def lemmatize(tokens):\n",
    "    lemmatizer = WordNetLemmatizer()\n",
    "    for i in range(0,len(tokens)):\n",
    "        tokens[i] = lemmatizer.lemmatize(tokens[i],pos=str(get_pos_tag(tokens[i])))\n",
    "    return tokens"
   ]
  },
  {
   "cell_type": "code",
   "execution_count": 210,
   "metadata": {
    "collapsed": true
   },
   "outputs": [],
   "source": [
    "def add_to_inverted_index(tokens,index):\n",
    "    for i in range(0,len(tokens)):\n",
    "        if tokens[i] not in inverted_index:\n",
    "            inverted_index[tokens[i]] = [index]\n",
    "        else:\n",
    "            if index not in inverted_index[tokens[i]]:\n",
    "                inverted_index[tokens[i]].append(index)"
   ]
  },
  {
   "cell_type": "code",
   "execution_count": 211,
   "metadata": {
    "collapsed": true
   },
   "outputs": [],
   "source": [
    "def add_to_bi_word_inverted_index(tokens,index):\n",
    "    for i in range(0,len(tokens)-1):\n",
    "        token = tokens[i] + \" \" + tokens[i+1]\n",
    "        if token not in bi_word_inverted_index:\n",
    "            bi_word_inverted_index[token] = [index]\n",
    "        else:\n",
    "            if index not in bi_word_inverted_index[token]:\n",
    "                bi_word_inverted_index[token].append(index)"
   ]
  },
  {
   "cell_type": "code",
   "execution_count": 212,
   "metadata": {
    "collapsed": true
   },
   "outputs": [],
   "source": [
    "def save(inverted_index,filename):\n",
    "    with open(filename + '.pkl','wb') as index:\n",
    "        pickle.dump(inverted_index,index,pickle.HIGHEST_PROTOCOL)"
   ]
  },
  {
   "cell_type": "code",
   "execution_count": 213,
   "metadata": {
    "collapsed": true
   },
   "outputs": [],
   "source": [
    "def read():\n",
    "    with open(\"inverted_index.pkl\",'rb') as file:\n",
    "        inverted_index = pickle.load(file)\n",
    "    with open(\"bi_word_inverted_index.pkl\",'rb') as file:\n",
    "        bi_word_inverted_index = pickle.load(file)"
   ]
  },
  {
   "cell_type": "code",
   "execution_count": 214,
   "metadata": {
    "collapsed": true
   },
   "outputs": [],
   "source": [
    "def load_and_preprocess():\n",
    "    for i in range(5,100,5):\n",
    "        with open(\"data/data_split_\" + str(i) + \".csv\") as file:\n",
    "            not_result.append(i)\n",
    "            csv_reader = csv.reader(file,delimiter=',')\n",
    "            flag = 0\n",
    "            for row in csv_reader:\n",
    "                row = re.sub(r'[^a-zA-Z]', ' ', str(row))\n",
    "                tokens = word_tokenize(str(row))\n",
    "                tokens = remove_stopwords(tokens)\n",
    "                tokens = lemmatize(tokens)\n",
    "                add_to_inverted_index(tokens,i)\n",
    "                add_to_bi_word_inverted_index(tokens,i)\n",
    "    save(inverted_index,\"inverted_index\")\n",
    "    save(bi_word_inverted_index,\"bi_word_inverted_index\")"
   ]
  },
  {
   "cell_type": "code",
   "execution_count": 221,
   "metadata": {
    "collapsed": true
   },
   "outputs": [],
   "source": [
    "def and_query(words,is_bi_word=False):\n",
    "    if is_bi_word:\n",
    "        index = bi_word_inverted_index\n",
    "    else:\n",
    "        index = inverted_index\n",
    "    first_word = True\n",
    "    result = []\n",
    "    for word in words:\n",
    "        word = word.strip()\n",
    "        if word not in index:\n",
    "            return []\n",
    "        if first_word:\n",
    "            first_word = False\n",
    "            result = index[word]\n",
    "        else:\n",
    "            result_temp = []\n",
    "            for i in range(0,len(index[word])):\n",
    "                if index[word][i] in result:\n",
    "                    result_temp.append(index[word][i])\n",
    "            result = []\n",
    "            result = result_temp\n",
    "            if(len(result) == 0):\n",
    "                return result\n",
    "    return result"
   ]
  },
  {
   "cell_type": "code",
   "execution_count": 222,
   "metadata": {
    "collapsed": true
   },
   "outputs": [],
   "source": [
    "def or_query(words,is_bi_word=False):\n",
    "    if is_bi_word:\n",
    "        index = bi_word_inverted_index\n",
    "    else:\n",
    "        index = inverted_index\n",
    "    result = []\n",
    "    for word in words:\n",
    "        word = word.strip()\n",
    "        for i in range(0,len(index[word])):\n",
    "            if index[word][i] not in result:\n",
    "                result.append(index[word][i])\n",
    "    return result"
   ]
  },
  {
   "cell_type": "code",
   "execution_count": 223,
   "metadata": {
    "collapsed": true
   },
   "outputs": [],
   "source": [
    "#AND\n",
    "def not_query(words,is_bi_word=False):\n",
    "    if is_bi_word:\n",
    "        index = bi_word_inverted_index\n",
    "    else:\n",
    "        index = inverted_index\n",
    "    result = not_result\n",
    "    for word in words:\n",
    "        word = word.strip()\n",
    "        for i in range(0,len(index[word])):\n",
    "            if index[word][i] in result:\n",
    "                result.remove(index[word][i])\n",
    "    return result"
   ]
  },
  {
   "cell_type": "code",
   "execution_count": null,
   "metadata": {
    "collapsed": true
   },
   "outputs": [],
   "source": [
    "if os.path.isfile(\"inverted_index.pkl\") and os.path.isfile(\"bi_word_inverted_index.pkl\"):\n",
    "    read()\n",
    "else:\n",
    "    load_and_preprocess()"
   ]
  }
 ],
 "metadata": {
  "kernelspec": {
   "display_name": "Python 3",
   "language": "python",
   "name": "python3"
  },
  "language_info": {
   "codemirror_mode": {
    "name": "ipython",
    "version": 3
   },
   "file_extension": ".py",
   "mimetype": "text/x-python",
   "name": "python",
   "nbconvert_exporter": "python",
   "pygments_lexer": "ipython3",
   "version": "3.6.7"
  }
 },
 "nbformat": 4,
 "nbformat_minor": 2
}
